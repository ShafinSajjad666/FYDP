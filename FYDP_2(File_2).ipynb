{
  "nbformat": 4,
  "nbformat_minor": 0,
  "metadata": {
    "colab": {
      "provenance": []
    },
    "kernelspec": {
      "name": "python3",
      "display_name": "Python 3"
    },
    "language_info": {
      "name": "python"
    }
  },
  "cells": [
    {
      "cell_type": "code",
      "execution_count": null,
      "metadata": {
        "colab": {
          "base_uri": "https://localhost:8080/"
        },
        "id": "vqvxz_gTNfUz",
        "outputId": "42a9ec80-027e-4f1d-f601-8e10ec5c4346"
      },
      "outputs": [
        {
          "output_type": "stream",
          "name": "stdout",
          "text": [
            "Collecting tenseal\n",
            "  Downloading tenseal-0.3.14-cp310-cp310-manylinux_2_17_x86_64.manylinux2014_x86_64.whl (4.9 MB)\n",
            "\u001b[2K     \u001b[90m━━━━━━━━━━━━━━━━━━━━━━━━━━━━━━━━━━━━━━━━\u001b[0m \u001b[32m4.9/4.9 MB\u001b[0m \u001b[31m11.4 MB/s\u001b[0m eta \u001b[36m0:00:00\u001b[0m\n",
            "\u001b[?25hInstalling collected packages: tenseal\n",
            "Successfully installed tenseal-0.3.14\n"
          ]
        }
      ],
      "source": [
        "!pip install tenseal"
      ]
    },
    {
      "cell_type": "code",
      "source": [
        "!git clone https://github.com/dhuynh95/cryptotree.git"
      ],
      "metadata": {
        "colab": {
          "base_uri": "https://localhost:8080/"
        },
        "id": "rdjG8kleN1Er",
        "outputId": "f4cfb58e-0327-4d56-afdf-83fae12d9911"
      },
      "execution_count": null,
      "outputs": [
        {
          "output_type": "stream",
          "name": "stdout",
          "text": [
            "Cloning into 'cryptotree'...\n",
            "remote: Enumerating objects: 611, done.\u001b[K\n",
            "remote: Counting objects: 100% (15/15), done.\u001b[K\n",
            "remote: Compressing objects: 100% (15/15), done.\u001b[K\n",
            "remote: Total 611 (delta 6), reused 0 (delta 0), pack-reused 596\u001b[K\n",
            "Receiving objects: 100% (611/611), 2.13 MiB | 10.03 MiB/s, done.\n",
            "Resolving deltas: 100% (356/356), done.\n"
          ]
        }
      ]
    },
    {
      "cell_type": "code",
      "source": [
        "%cd cryptotree\n",
        "!python setup.py install"
      ],
      "metadata": {
        "colab": {
          "base_uri": "https://localhost:8080/"
        },
        "id": "3Yp8_QyjN3-a",
        "outputId": "0a236ce4-6c76-4097-d49f-25e7f3dd225d"
      },
      "execution_count": null,
      "outputs": [
        {
          "output_type": "stream",
          "name": "stdout",
          "text": [
            "/content/cryptotree\n",
            "running install\n",
            "/usr/local/lib/python3.10/dist-packages/setuptools/_distutils/cmd.py:66: SetuptoolsDeprecationWarning: setup.py install is deprecated.\n",
            "!!\n",
            "\n",
            "        ********************************************************************************\n",
            "        Please avoid running ``setup.py`` directly.\n",
            "        Instead, use pypa/build, pypa/installer, pypa/build or\n",
            "        other standards-based tools.\n",
            "\n",
            "        See https://blog.ganssle.io/articles/2021/10/setup-py-deprecated.html for details.\n",
            "        ********************************************************************************\n",
            "\n",
            "!!\n",
            "  self.initialize_options()\n",
            "/usr/local/lib/python3.10/dist-packages/setuptools/_distutils/cmd.py:66: EasyInstallDeprecationWarning: easy_install command is deprecated.\n",
            "!!\n",
            "\n",
            "        ********************************************************************************\n",
            "        Please avoid running ``setup.py`` and ``easy_install``.\n",
            "        Instead, use pypa/build, pypa/installer, pypa/build or\n",
            "        other standards-based tools.\n",
            "\n",
            "        See https://github.com/pypa/setuptools/issues/917 for details.\n",
            "        ********************************************************************************\n",
            "\n",
            "!!\n",
            "  self.initialize_options()\n",
            "running bdist_egg\n",
            "running egg_info\n",
            "creating cryptotree.egg-info\n",
            "writing cryptotree.egg-info/PKG-INFO\n",
            "writing dependency_links to cryptotree.egg-info/dependency_links.txt\n",
            "writing requirements to cryptotree.egg-info/requires.txt\n",
            "writing top-level names to cryptotree.egg-info/top_level.txt\n",
            "writing manifest file 'cryptotree.egg-info/SOURCES.txt'\n",
            "reading manifest file 'cryptotree.egg-info/SOURCES.txt'\n",
            "reading manifest template 'MANIFEST.in'\n",
            "warning: no previously-included files matching '__pycache__' found under directory '*'\n",
            "adding license file 'LICENSE'\n",
            "writing manifest file 'cryptotree.egg-info/SOURCES.txt'\n",
            "installing library code to build/bdist.linux-x86_64/egg\n",
            "running install_lib\n",
            "running build_py\n",
            "creating build\n",
            "creating build/lib\n",
            "creating build/lib/cryptotree\n",
            "copying cryptotree/tree.py -> build/lib/cryptotree\n",
            "copying cryptotree/activations.py -> build/lib/cryptotree\n",
            "copying cryptotree/cryptotree.py -> build/lib/cryptotree\n",
            "copying cryptotree/preprocessing.py -> build/lib/cryptotree\n",
            "copying cryptotree/_nbdev.py -> build/lib/cryptotree\n",
            "copying cryptotree/polynomials.py -> build/lib/cryptotree\n",
            "copying cryptotree/__init__.py -> build/lib/cryptotree\n",
            "copying cryptotree/seal_helper.py -> build/lib/cryptotree\n",
            "copying cryptotree/linear.py -> build/lib/cryptotree\n",
            "creating build/bdist.linux-x86_64\n",
            "creating build/bdist.linux-x86_64/egg\n",
            "creating build/bdist.linux-x86_64/egg/cryptotree\n",
            "copying build/lib/cryptotree/tree.py -> build/bdist.linux-x86_64/egg/cryptotree\n",
            "copying build/lib/cryptotree/activations.py -> build/bdist.linux-x86_64/egg/cryptotree\n",
            "copying build/lib/cryptotree/cryptotree.py -> build/bdist.linux-x86_64/egg/cryptotree\n",
            "copying build/lib/cryptotree/preprocessing.py -> build/bdist.linux-x86_64/egg/cryptotree\n",
            "copying build/lib/cryptotree/_nbdev.py -> build/bdist.linux-x86_64/egg/cryptotree\n",
            "copying build/lib/cryptotree/polynomials.py -> build/bdist.linux-x86_64/egg/cryptotree\n",
            "copying build/lib/cryptotree/__init__.py -> build/bdist.linux-x86_64/egg/cryptotree\n",
            "copying build/lib/cryptotree/seal_helper.py -> build/bdist.linux-x86_64/egg/cryptotree\n",
            "copying build/lib/cryptotree/linear.py -> build/bdist.linux-x86_64/egg/cryptotree\n",
            "byte-compiling build/bdist.linux-x86_64/egg/cryptotree/tree.py to tree.cpython-310.pyc\n",
            "byte-compiling build/bdist.linux-x86_64/egg/cryptotree/activations.py to activations.cpython-310.pyc\n",
            "byte-compiling build/bdist.linux-x86_64/egg/cryptotree/cryptotree.py to cryptotree.cpython-310.pyc\n",
            "byte-compiling build/bdist.linux-x86_64/egg/cryptotree/preprocessing.py to preprocessing.cpython-310.pyc\n",
            "byte-compiling build/bdist.linux-x86_64/egg/cryptotree/_nbdev.py to _nbdev.cpython-310.pyc\n",
            "byte-compiling build/bdist.linux-x86_64/egg/cryptotree/polynomials.py to polynomials.cpython-310.pyc\n",
            "byte-compiling build/bdist.linux-x86_64/egg/cryptotree/__init__.py to __init__.cpython-310.pyc\n",
            "byte-compiling build/bdist.linux-x86_64/egg/cryptotree/seal_helper.py to seal_helper.cpython-310.pyc\n",
            "byte-compiling build/bdist.linux-x86_64/egg/cryptotree/linear.py to linear.cpython-310.pyc\n",
            "creating build/bdist.linux-x86_64/egg/EGG-INFO\n",
            "copying cryptotree.egg-info/PKG-INFO -> build/bdist.linux-x86_64/egg/EGG-INFO\n",
            "copying cryptotree.egg-info/SOURCES.txt -> build/bdist.linux-x86_64/egg/EGG-INFO\n",
            "copying cryptotree.egg-info/dependency_links.txt -> build/bdist.linux-x86_64/egg/EGG-INFO\n",
            "copying cryptotree.egg-info/not-zip-safe -> build/bdist.linux-x86_64/egg/EGG-INFO\n",
            "copying cryptotree.egg-info/requires.txt -> build/bdist.linux-x86_64/egg/EGG-INFO\n",
            "copying cryptotree.egg-info/top_level.txt -> build/bdist.linux-x86_64/egg/EGG-INFO\n",
            "creating dist\n",
            "creating 'dist/cryptotree-0.0.1-py3.10.egg' and adding 'build/bdist.linux-x86_64/egg' to it\n",
            "removing 'build/bdist.linux-x86_64/egg' (and everything under it)\n",
            "Processing cryptotree-0.0.1-py3.10.egg\n",
            "creating /usr/local/lib/python3.10/dist-packages/cryptotree-0.0.1-py3.10.egg\n",
            "Extracting cryptotree-0.0.1-py3.10.egg to /usr/local/lib/python3.10/dist-packages\n",
            "Adding cryptotree 0.0.1 to easy-install.pth file\n",
            "\n",
            "Installed /usr/local/lib/python3.10/dist-packages/cryptotree-0.0.1-py3.10.egg\n",
            "Processing dependencies for cryptotree==0.0.1\n",
            "Searching for sklearn\n",
            "Reading https://pypi.org/simple/sklearn/\n",
            "Downloading https://files.pythonhosted.org/packages/46/1c/395a83ee7b2d2ad7a05b453872053d41449564477c81dc356f720b16eac4/sklearn-0.0.post12.tar.gz#sha256=54cff9e20839b7b202321178228af4d9388bedf78425d9299fd9ee170d68802e\n",
            "Best match: sklearn 0.0.post12\n",
            "Processing sklearn-0.0.post12.tar.gz\n",
            "Writing /tmp/easy_install-x9tim_vx/sklearn-0.0.post12/setup.cfg\n",
            "Running sklearn-0.0.post12/setup.py -q bdist_egg --dist-dir /tmp/easy_install-x9tim_vx/sklearn-0.0.post12/egg-dist-tmp-hymlc2_r\n",
            "error: Setup script exited with The 'sklearn' PyPI package is deprecated, use 'scikit-learn'\n",
            "rather than 'sklearn' for pip commands. \n",
            "\n",
            "Here is how to fix this error in the main use cases:\n",
            "- use 'pip install scikit-learn' rather than 'pip install sklearn'\n",
            "- replace 'sklearn' by 'scikit-learn' in your pip requirements files\n",
            "  (requirements.txt, setup.py, setup.cfg, Pipfile, etc ...)\n",
            "- if the 'sklearn' package is used by one of your dependencies,\n",
            "  it would be great if you take some time to track which package uses\n",
            "  'sklearn' instead of 'scikit-learn' and report it to their issue tracker\n",
            "- as a last resort, set the environment variable\n",
            "  SKLEARN_ALLOW_DEPRECATED_SKLEARN_PACKAGE_INSTALL=True to avoid this error\n",
            "\n",
            "More information is available at\n",
            "https://github.com/scikit-learn/sklearn-pypi-package\n"
          ]
        }
      ]
    },
    {
      "cell_type": "code",
      "source": [
        "!pip install scikit-learn"
      ],
      "metadata": {
        "colab": {
          "base_uri": "https://localhost:8080/"
        },
        "id": "EBSvqkNQN9HF",
        "outputId": "6e576556-8f72-4460-9cfb-1b459bf1c374"
      },
      "execution_count": null,
      "outputs": [
        {
          "output_type": "stream",
          "name": "stdout",
          "text": [
            "Requirement already satisfied: scikit-learn in /usr/local/lib/python3.10/dist-packages (1.2.2)\n",
            "Requirement already satisfied: numpy>=1.17.3 in /usr/local/lib/python3.10/dist-packages (from scikit-learn) (1.25.2)\n",
            "Requirement already satisfied: scipy>=1.3.2 in /usr/local/lib/python3.10/dist-packages (from scikit-learn) (1.11.4)\n",
            "Requirement already satisfied: joblib>=1.1.1 in /usr/local/lib/python3.10/dist-packages (from scikit-learn) (1.4.2)\n",
            "Requirement already satisfied: threadpoolctl>=2.0.0 in /usr/local/lib/python3.10/dist-packages (from scikit-learn) (3.5.0)\n"
          ]
        }
      ]
    },
    {
      "cell_type": "code",
      "source": [
        "!sed -i 's/sklearn/scikit-learn/g' setup.py\n",
        "!sed -i 's/sklearn/scikit-learn/g' setup.cfg\n",
        "!sed -i 's/sklearn/scikit-learn/g' requirements.txt"
      ],
      "metadata": {
        "colab": {
          "base_uri": "https://localhost:8080/"
        },
        "id": "_icYs2-dOEDj",
        "outputId": "f0eec254-97ae-4184-e444-756a1436514f"
      },
      "execution_count": null,
      "outputs": [
        {
          "output_type": "stream",
          "name": "stdout",
          "text": [
            "sed: can't read setup.cfg: No such file or directory\n",
            "sed: can't read requirements.txt: No such file or directory\n"
          ]
        }
      ]
    },
    {
      "cell_type": "code",
      "source": [
        "%cd .."
      ],
      "metadata": {
        "colab": {
          "base_uri": "https://localhost:8080/"
        },
        "id": "hKOipuGOOKUP",
        "outputId": "056f97dc-ecee-4073-e9da-86db26cd7518"
      },
      "execution_count": null,
      "outputs": [
        {
          "output_type": "stream",
          "name": "stdout",
          "text": [
            "/content\n"
          ]
        }
      ]
    },
    {
      "cell_type": "code",
      "source": [
        "%cd cryptotree"
      ],
      "metadata": {
        "colab": {
          "base_uri": "https://localhost:8080/"
        },
        "id": "bpCiEpqsOOuO",
        "outputId": "38cf2d8f-e1a2-4179-aff5-63b0aa5291de"
      },
      "execution_count": null,
      "outputs": [
        {
          "output_type": "stream",
          "name": "stdout",
          "text": [
            "/content/cryptotree\n"
          ]
        }
      ]
    },
    {
      "cell_type": "code",
      "source": [
        "%cd cryptotree"
      ],
      "metadata": {
        "colab": {
          "base_uri": "https://localhost:8080/"
        },
        "id": "OlNdShheOgLv",
        "outputId": "7475778a-1273-47ee-ce23-fe7a4e1d6d8e"
      },
      "execution_count": null,
      "outputs": [
        {
          "output_type": "stream",
          "name": "stdout",
          "text": [
            "/content/cryptotree/cryptotree\n"
          ]
        }
      ]
    },
    {
      "cell_type": "code",
      "source": [
        "!sed -i 's/sklearn/scikit-learn/g' setup.py\n",
        "!sed -i 's/sklearn/scikit-learn/g' setup.cfg\n",
        "!sed -i 's/sklearn/scikit-learn/g' requirements.txt"
      ],
      "metadata": {
        "colab": {
          "base_uri": "https://localhost:8080/"
        },
        "id": "pcRP9li7OiAe",
        "outputId": "02ddd5dd-0e49-4c43-c15e-1c35e4a5abfc"
      },
      "execution_count": null,
      "outputs": [
        {
          "output_type": "stream",
          "name": "stdout",
          "text": [
            "sed: can't read setup.py: No such file or directory\n",
            "sed: can't read setup.cfg: No such file or directory\n",
            "sed: can't read requirements.txt: No such file or directory\n"
          ]
        }
      ]
    },
    {
      "cell_type": "code",
      "source": [
        "%cd .."
      ],
      "metadata": {
        "colab": {
          "base_uri": "https://localhost:8080/"
        },
        "id": "eYYOHEklOvSg",
        "outputId": "16541678-fc53-4131-f969-b886704212bd"
      },
      "execution_count": null,
      "outputs": [
        {
          "output_type": "stream",
          "name": "stdout",
          "text": [
            "/content/cryptotree\n"
          ]
        }
      ]
    },
    {
      "cell_type": "code",
      "source": [
        "!ls"
      ],
      "metadata": {
        "colab": {
          "base_uri": "https://localhost:8080/"
        },
        "id": "Ngrv995XOxo6",
        "outputId": "5d83507f-2788-4aff-d348-08d477d00bbd"
      },
      "execution_count": null,
      "outputs": [
        {
          "output_type": "stream",
          "name": "stdout",
          "text": [
            "build\t\t cryptotree.egg-info  Dockerfile  LICENSE      nbs\t     setup.py\n",
            "CONTRIBUTING.md  demo\t\t      docs\t  Makefile     README.md     third_party\n",
            "cryptotree\t dist\t\t      examples\t  MANIFEST.in  settings.ini\n"
          ]
        }
      ]
    },
    {
      "cell_type": "code",
      "source": [
        "!sed -i 's/sklearn/scikit-learn/g' setup.py"
      ],
      "metadata": {
        "id": "wS-3SZPwPp6Q"
      },
      "execution_count": null,
      "outputs": []
    },
    {
      "cell_type": "code",
      "source": [
        "import cryptotree"
      ],
      "metadata": {
        "id": "ZGlv1nMlP4-K"
      },
      "execution_count": null,
      "outputs": []
    },
    {
      "cell_type": "code",
      "source": [
        "from cryptotree.tree import NeuralRandomForest"
      ],
      "metadata": {
        "id": "z2vsu45JP7M-"
      },
      "execution_count": null,
      "outputs": []
    },
    {
      "cell_type": "code",
      "source": [
        "import numpy as np\n",
        "import pandas as pd\n",
        "from sklearn.preprocessing import OneHotEncoder, StandardScaler\n",
        "from sklearn.model_selection import train_test_split\n",
        "from sklearn.ensemble import RandomForestClassifier\n",
        "from sklearn.pipeline import Pipeline\n",
        "from sklearn.compose import ColumnTransformer\n",
        "from sklearn.metrics import classification_report\n",
        "\n",
        "# Load dataset\n",
        "file_path = '/content/Fraud1k.csv'\n",
        "fraud1k_df = pd.read_csv(file_path)\n",
        "\n",
        "fraud1k_df.head()"
      ],
      "metadata": {
        "colab": {
          "base_uri": "https://localhost:8080/",
          "height": 417
        },
        "id": "xt4AFK2YQnAr",
        "outputId": "0c6d29b3-c030-4edf-cb40-ca8770548390"
      },
      "execution_count": null,
      "outputs": [
        {
          "output_type": "execute_result",
          "data": {
            "text/plain": [
              "   Unnamed: 0       Date     nameOrig    amount  oldbalanceOrg  \\\n",
              "0           0   2-Mar-12    C66647849  29848.64      180104.00   \n",
              "1           1   9-Oct-12  C1425726912   9520.21      114767.00   \n",
              "2           2   5-Nov-13  C1130047389   9158.70      166572.00   \n",
              "3           3  22-Jun-13   C494954393    491.00         929.71   \n",
              "4           4  18-Dec-12  C1598752306   3812.00        7406.00   \n",
              "\n",
              "   newbalanceOrig                   City      type  Card Type       Exp Type  \\\n",
              "0       150255.36  Greater Mumbai, India  CASH_OUT       Gold  Entertainment   \n",
              "1       105246.79      Byasanagar, India   PAYMENT     Silver           Fuel   \n",
              "2       157413.30        Bilaspur, India   PAYMENT   Platinum  Entertainment   \n",
              "3          438.71       Ahmedabad, India  CASH_OUT  Signature           Food   \n",
              "4         3594.00          Shirdi, India  CASH_OUT   Platinum           Food   \n",
              "\n",
              "  Gender  isFraud  \n",
              "0      M        0  \n",
              "1      M        0  \n",
              "2      F        0  \n",
              "3      F        0  \n",
              "4      F        0  "
            ],
            "text/html": [
              "\n",
              "  <div id=\"df-161464cd-349d-4a59-9c1b-2c15b4472d04\" class=\"colab-df-container\">\n",
              "    <div>\n",
              "<style scoped>\n",
              "    .dataframe tbody tr th:only-of-type {\n",
              "        vertical-align: middle;\n",
              "    }\n",
              "\n",
              "    .dataframe tbody tr th {\n",
              "        vertical-align: top;\n",
              "    }\n",
              "\n",
              "    .dataframe thead th {\n",
              "        text-align: right;\n",
              "    }\n",
              "</style>\n",
              "<table border=\"1\" class=\"dataframe\">\n",
              "  <thead>\n",
              "    <tr style=\"text-align: right;\">\n",
              "      <th></th>\n",
              "      <th>Unnamed: 0</th>\n",
              "      <th>Date</th>\n",
              "      <th>nameOrig</th>\n",
              "      <th>amount</th>\n",
              "      <th>oldbalanceOrg</th>\n",
              "      <th>newbalanceOrig</th>\n",
              "      <th>City</th>\n",
              "      <th>type</th>\n",
              "      <th>Card Type</th>\n",
              "      <th>Exp Type</th>\n",
              "      <th>Gender</th>\n",
              "      <th>isFraud</th>\n",
              "    </tr>\n",
              "  </thead>\n",
              "  <tbody>\n",
              "    <tr>\n",
              "      <th>0</th>\n",
              "      <td>0</td>\n",
              "      <td>2-Mar-12</td>\n",
              "      <td>C66647849</td>\n",
              "      <td>29848.64</td>\n",
              "      <td>180104.00</td>\n",
              "      <td>150255.36</td>\n",
              "      <td>Greater Mumbai, India</td>\n",
              "      <td>CASH_OUT</td>\n",
              "      <td>Gold</td>\n",
              "      <td>Entertainment</td>\n",
              "      <td>M</td>\n",
              "      <td>0</td>\n",
              "    </tr>\n",
              "    <tr>\n",
              "      <th>1</th>\n",
              "      <td>1</td>\n",
              "      <td>9-Oct-12</td>\n",
              "      <td>C1425726912</td>\n",
              "      <td>9520.21</td>\n",
              "      <td>114767.00</td>\n",
              "      <td>105246.79</td>\n",
              "      <td>Byasanagar, India</td>\n",
              "      <td>PAYMENT</td>\n",
              "      <td>Silver</td>\n",
              "      <td>Fuel</td>\n",
              "      <td>M</td>\n",
              "      <td>0</td>\n",
              "    </tr>\n",
              "    <tr>\n",
              "      <th>2</th>\n",
              "      <td>2</td>\n",
              "      <td>5-Nov-13</td>\n",
              "      <td>C1130047389</td>\n",
              "      <td>9158.70</td>\n",
              "      <td>166572.00</td>\n",
              "      <td>157413.30</td>\n",
              "      <td>Bilaspur, India</td>\n",
              "      <td>PAYMENT</td>\n",
              "      <td>Platinum</td>\n",
              "      <td>Entertainment</td>\n",
              "      <td>F</td>\n",
              "      <td>0</td>\n",
              "    </tr>\n",
              "    <tr>\n",
              "      <th>3</th>\n",
              "      <td>3</td>\n",
              "      <td>22-Jun-13</td>\n",
              "      <td>C494954393</td>\n",
              "      <td>491.00</td>\n",
              "      <td>929.71</td>\n",
              "      <td>438.71</td>\n",
              "      <td>Ahmedabad, India</td>\n",
              "      <td>CASH_OUT</td>\n",
              "      <td>Signature</td>\n",
              "      <td>Food</td>\n",
              "      <td>F</td>\n",
              "      <td>0</td>\n",
              "    </tr>\n",
              "    <tr>\n",
              "      <th>4</th>\n",
              "      <td>4</td>\n",
              "      <td>18-Dec-12</td>\n",
              "      <td>C1598752306</td>\n",
              "      <td>3812.00</td>\n",
              "      <td>7406.00</td>\n",
              "      <td>3594.00</td>\n",
              "      <td>Shirdi, India</td>\n",
              "      <td>CASH_OUT</td>\n",
              "      <td>Platinum</td>\n",
              "      <td>Food</td>\n",
              "      <td>F</td>\n",
              "      <td>0</td>\n",
              "    </tr>\n",
              "  </tbody>\n",
              "</table>\n",
              "</div>\n",
              "    <div class=\"colab-df-buttons\">\n",
              "\n",
              "  <div class=\"colab-df-container\">\n",
              "    <button class=\"colab-df-convert\" onclick=\"convertToInteractive('df-161464cd-349d-4a59-9c1b-2c15b4472d04')\"\n",
              "            title=\"Convert this dataframe to an interactive table.\"\n",
              "            style=\"display:none;\">\n",
              "\n",
              "  <svg xmlns=\"http://www.w3.org/2000/svg\" height=\"24px\" viewBox=\"0 -960 960 960\">\n",
              "    <path d=\"M120-120v-720h720v720H120Zm60-500h600v-160H180v160Zm220 220h160v-160H400v160Zm0 220h160v-160H400v160ZM180-400h160v-160H180v160Zm440 0h160v-160H620v160ZM180-180h160v-160H180v160Zm440 0h160v-160H620v160Z\"/>\n",
              "  </svg>\n",
              "    </button>\n",
              "\n",
              "  <style>\n",
              "    .colab-df-container {\n",
              "      display:flex;\n",
              "      gap: 12px;\n",
              "    }\n",
              "\n",
              "    .colab-df-convert {\n",
              "      background-color: #E8F0FE;\n",
              "      border: none;\n",
              "      border-radius: 50%;\n",
              "      cursor: pointer;\n",
              "      display: none;\n",
              "      fill: #1967D2;\n",
              "      height: 32px;\n",
              "      padding: 0 0 0 0;\n",
              "      width: 32px;\n",
              "    }\n",
              "\n",
              "    .colab-df-convert:hover {\n",
              "      background-color: #E2EBFA;\n",
              "      box-shadow: 0px 1px 2px rgba(60, 64, 67, 0.3), 0px 1px 3px 1px rgba(60, 64, 67, 0.15);\n",
              "      fill: #174EA6;\n",
              "    }\n",
              "\n",
              "    .colab-df-buttons div {\n",
              "      margin-bottom: 4px;\n",
              "    }\n",
              "\n",
              "    [theme=dark] .colab-df-convert {\n",
              "      background-color: #3B4455;\n",
              "      fill: #D2E3FC;\n",
              "    }\n",
              "\n",
              "    [theme=dark] .colab-df-convert:hover {\n",
              "      background-color: #434B5C;\n",
              "      box-shadow: 0px 1px 3px 1px rgba(0, 0, 0, 0.15);\n",
              "      filter: drop-shadow(0px 1px 2px rgba(0, 0, 0, 0.3));\n",
              "      fill: #FFFFFF;\n",
              "    }\n",
              "  </style>\n",
              "\n",
              "    <script>\n",
              "      const buttonEl =\n",
              "        document.querySelector('#df-161464cd-349d-4a59-9c1b-2c15b4472d04 button.colab-df-convert');\n",
              "      buttonEl.style.display =\n",
              "        google.colab.kernel.accessAllowed ? 'block' : 'none';\n",
              "\n",
              "      async function convertToInteractive(key) {\n",
              "        const element = document.querySelector('#df-161464cd-349d-4a59-9c1b-2c15b4472d04');\n",
              "        const dataTable =\n",
              "          await google.colab.kernel.invokeFunction('convertToInteractive',\n",
              "                                                    [key], {});\n",
              "        if (!dataTable) return;\n",
              "\n",
              "        const docLinkHtml = 'Like what you see? Visit the ' +\n",
              "          '<a target=\"_blank\" href=https://colab.research.google.com/notebooks/data_table.ipynb>data table notebook</a>'\n",
              "          + ' to learn more about interactive tables.';\n",
              "        element.innerHTML = '';\n",
              "        dataTable['output_type'] = 'display_data';\n",
              "        await google.colab.output.renderOutput(dataTable, element);\n",
              "        const docLink = document.createElement('div');\n",
              "        docLink.innerHTML = docLinkHtml;\n",
              "        element.appendChild(docLink);\n",
              "      }\n",
              "    </script>\n",
              "  </div>\n",
              "\n",
              "\n",
              "<div id=\"df-45bf4723-1bbd-4d55-9448-361aa4ba5d5f\">\n",
              "  <button class=\"colab-df-quickchart\" onclick=\"quickchart('df-45bf4723-1bbd-4d55-9448-361aa4ba5d5f')\"\n",
              "            title=\"Suggest charts\"\n",
              "            style=\"display:none;\">\n",
              "\n",
              "<svg xmlns=\"http://www.w3.org/2000/svg\" height=\"24px\"viewBox=\"0 0 24 24\"\n",
              "     width=\"24px\">\n",
              "    <g>\n",
              "        <path d=\"M19 3H5c-1.1 0-2 .9-2 2v14c0 1.1.9 2 2 2h14c1.1 0 2-.9 2-2V5c0-1.1-.9-2-2-2zM9 17H7v-7h2v7zm4 0h-2V7h2v10zm4 0h-2v-4h2v4z\"/>\n",
              "    </g>\n",
              "</svg>\n",
              "  </button>\n",
              "\n",
              "<style>\n",
              "  .colab-df-quickchart {\n",
              "      --bg-color: #E8F0FE;\n",
              "      --fill-color: #1967D2;\n",
              "      --hover-bg-color: #E2EBFA;\n",
              "      --hover-fill-color: #174EA6;\n",
              "      --disabled-fill-color: #AAA;\n",
              "      --disabled-bg-color: #DDD;\n",
              "  }\n",
              "\n",
              "  [theme=dark] .colab-df-quickchart {\n",
              "      --bg-color: #3B4455;\n",
              "      --fill-color: #D2E3FC;\n",
              "      --hover-bg-color: #434B5C;\n",
              "      --hover-fill-color: #FFFFFF;\n",
              "      --disabled-bg-color: #3B4455;\n",
              "      --disabled-fill-color: #666;\n",
              "  }\n",
              "\n",
              "  .colab-df-quickchart {\n",
              "    background-color: var(--bg-color);\n",
              "    border: none;\n",
              "    border-radius: 50%;\n",
              "    cursor: pointer;\n",
              "    display: none;\n",
              "    fill: var(--fill-color);\n",
              "    height: 32px;\n",
              "    padding: 0;\n",
              "    width: 32px;\n",
              "  }\n",
              "\n",
              "  .colab-df-quickchart:hover {\n",
              "    background-color: var(--hover-bg-color);\n",
              "    box-shadow: 0 1px 2px rgba(60, 64, 67, 0.3), 0 1px 3px 1px rgba(60, 64, 67, 0.15);\n",
              "    fill: var(--button-hover-fill-color);\n",
              "  }\n",
              "\n",
              "  .colab-df-quickchart-complete:disabled,\n",
              "  .colab-df-quickchart-complete:disabled:hover {\n",
              "    background-color: var(--disabled-bg-color);\n",
              "    fill: var(--disabled-fill-color);\n",
              "    box-shadow: none;\n",
              "  }\n",
              "\n",
              "  .colab-df-spinner {\n",
              "    border: 2px solid var(--fill-color);\n",
              "    border-color: transparent;\n",
              "    border-bottom-color: var(--fill-color);\n",
              "    animation:\n",
              "      spin 1s steps(1) infinite;\n",
              "  }\n",
              "\n",
              "  @keyframes spin {\n",
              "    0% {\n",
              "      border-color: transparent;\n",
              "      border-bottom-color: var(--fill-color);\n",
              "      border-left-color: var(--fill-color);\n",
              "    }\n",
              "    20% {\n",
              "      border-color: transparent;\n",
              "      border-left-color: var(--fill-color);\n",
              "      border-top-color: var(--fill-color);\n",
              "    }\n",
              "    30% {\n",
              "      border-color: transparent;\n",
              "      border-left-color: var(--fill-color);\n",
              "      border-top-color: var(--fill-color);\n",
              "      border-right-color: var(--fill-color);\n",
              "    }\n",
              "    40% {\n",
              "      border-color: transparent;\n",
              "      border-right-color: var(--fill-color);\n",
              "      border-top-color: var(--fill-color);\n",
              "    }\n",
              "    60% {\n",
              "      border-color: transparent;\n",
              "      border-right-color: var(--fill-color);\n",
              "    }\n",
              "    80% {\n",
              "      border-color: transparent;\n",
              "      border-right-color: var(--fill-color);\n",
              "      border-bottom-color: var(--fill-color);\n",
              "    }\n",
              "    90% {\n",
              "      border-color: transparent;\n",
              "      border-bottom-color: var(--fill-color);\n",
              "    }\n",
              "  }\n",
              "</style>\n",
              "\n",
              "  <script>\n",
              "    async function quickchart(key) {\n",
              "      const quickchartButtonEl =\n",
              "        document.querySelector('#' + key + ' button');\n",
              "      quickchartButtonEl.disabled = true;  // To prevent multiple clicks.\n",
              "      quickchartButtonEl.classList.add('colab-df-spinner');\n",
              "      try {\n",
              "        const charts = await google.colab.kernel.invokeFunction(\n",
              "            'suggestCharts', [key], {});\n",
              "      } catch (error) {\n",
              "        console.error('Error during call to suggestCharts:', error);\n",
              "      }\n",
              "      quickchartButtonEl.classList.remove('colab-df-spinner');\n",
              "      quickchartButtonEl.classList.add('colab-df-quickchart-complete');\n",
              "    }\n",
              "    (() => {\n",
              "      let quickchartButtonEl =\n",
              "        document.querySelector('#df-45bf4723-1bbd-4d55-9448-361aa4ba5d5f button');\n",
              "      quickchartButtonEl.style.display =\n",
              "        google.colab.kernel.accessAllowed ? 'block' : 'none';\n",
              "    })();\n",
              "  </script>\n",
              "</div>\n",
              "\n",
              "    </div>\n",
              "  </div>\n"
            ],
            "application/vnd.google.colaboratory.intrinsic+json": {
              "type": "dataframe",
              "variable_name": "fraud1k_df",
              "summary": "{\n  \"name\": \"fraud1k_df\",\n  \"rows\": 1001,\n  \"fields\": [\n    {\n      \"column\": \"Unnamed: 0\",\n      \"properties\": {\n        \"dtype\": \"number\",\n        \"std\": 289,\n        \"min\": 0,\n        \"max\": 1000,\n        \"num_unique_values\": 1001,\n        \"samples\": [\n          521,\n          941,\n          741\n        ],\n        \"semantic_type\": \"\",\n        \"description\": \"\"\n      }\n    },\n    {\n      \"column\": \"Date\",\n      \"properties\": {\n        \"dtype\": \"object\",\n        \"num_unique_values\": 639,\n        \"samples\": [\n          \"26-May-12\",\n          \"5-Jun-12\",\n          \"16-May-12\"\n        ],\n        \"semantic_type\": \"\",\n        \"description\": \"\"\n      }\n    },\n    {\n      \"column\": \"nameOrig\",\n      \"properties\": {\n        \"dtype\": \"string\",\n        \"num_unique_values\": 1001,\n        \"samples\": [\n          \"C1623066028\",\n          \"C1518488766\",\n          \"C1991331716\"\n        ],\n        \"semantic_type\": \"\",\n        \"description\": \"\"\n      }\n    },\n    {\n      \"column\": \"amount\",\n      \"properties\": {\n        \"dtype\": \"number\",\n        \"std\": 65264.858925131266,\n        \"min\": 0.0,\n        \"max\": 485895.38,\n        \"num_unique_values\": 825,\n        \"samples\": [\n          76183.56,\n          39155.45,\n          11348.0\n        ],\n        \"semantic_type\": \"\",\n        \"description\": \"\"\n      }\n    },\n    {\n      \"column\": \"oldbalanceOrg\",\n      \"properties\": {\n        \"dtype\": \"number\",\n        \"std\": 2608126.203130371,\n        \"min\": 0.0,\n        \"max\": 28300000.0,\n        \"num_unique_values\": 825,\n        \"samples\": [\n          572778.08,\n          57674.0,\n          48418.0\n        ],\n        \"semantic_type\": \"\",\n        \"description\": \"\"\n      }\n    },\n    {\n      \"column\": \"newbalanceOrig\",\n      \"properties\": {\n        \"dtype\": \"number\",\n        \"std\": 2575527.236886012,\n        \"min\": 0.0,\n        \"max\": 28175539.09,\n        \"num_unique_values\": 828,\n        \"samples\": [\n          4676370.47,\n          78166.1,\n          45118.0\n        ],\n        \"semantic_type\": \"\",\n        \"description\": \"\"\n      }\n    },\n    {\n      \"column\": \"City\",\n      \"properties\": {\n        \"dtype\": \"category\",\n        \"num_unique_values\": 215,\n        \"samples\": [\n          \"Sailu, India\",\n          \"Sillod, India\",\n          \"Nagaur, India\"\n        ],\n        \"semantic_type\": \"\",\n        \"description\": \"\"\n      }\n    },\n    {\n      \"column\": \"type\",\n      \"properties\": {\n        \"dtype\": \"category\",\n        \"num_unique_values\": 5,\n        \"samples\": [\n          \"PAYMENT\",\n          \"DEBIT\",\n          \"CASH_IN\"\n        ],\n        \"semantic_type\": \"\",\n        \"description\": \"\"\n      }\n    },\n    {\n      \"column\": \"Card Type\",\n      \"properties\": {\n        \"dtype\": \"category\",\n        \"num_unique_values\": 4,\n        \"samples\": [\n          \"Silver\",\n          \"Signature\",\n          \"Gold\"\n        ],\n        \"semantic_type\": \"\",\n        \"description\": \"\"\n      }\n    },\n    {\n      \"column\": \"Exp Type\",\n      \"properties\": {\n        \"dtype\": \"category\",\n        \"num_unique_values\": 6,\n        \"samples\": [\n          \"Entertainment\",\n          \"Fuel\",\n          \"Travel\"\n        ],\n        \"semantic_type\": \"\",\n        \"description\": \"\"\n      }\n    },\n    {\n      \"column\": \"Gender\",\n      \"properties\": {\n        \"dtype\": \"category\",\n        \"num_unique_values\": 2,\n        \"samples\": [\n          \"F\",\n          \"M\"\n        ],\n        \"semantic_type\": \"\",\n        \"description\": \"\"\n      }\n    },\n    {\n      \"column\": \"isFraud\",\n      \"properties\": {\n        \"dtype\": \"number\",\n        \"std\": 0,\n        \"min\": 0,\n        \"max\": 1,\n        \"num_unique_values\": 2,\n        \"samples\": [\n          1,\n          0\n        ],\n        \"semantic_type\": \"\",\n        \"description\": \"\"\n      }\n    }\n  ]\n}"
            }
          },
          "metadata": {},
          "execution_count": 22
        }
      ]
    },
    {
      "cell_type": "code",
      "source": [
        "print(fraud1k_df.shape)\n",
        "print(fraud1k_df['isFraud'].value_counts())"
      ],
      "metadata": {
        "colab": {
          "base_uri": "https://localhost:8080/"
        },
        "id": "rvWt4rCGQqTn",
        "outputId": "7b1d593e-0035-461c-e1c1-b5545e6e7e56"
      },
      "execution_count": null,
      "outputs": [
        {
          "output_type": "stream",
          "name": "stdout",
          "text": [
            "(1001, 12)\n",
            "isFraud\n",
            "0    839\n",
            "1    162\n",
            "Name: count, dtype: int64\n"
          ]
        }
      ]
    },
    {
      "cell_type": "code",
      "source": [
        "import cryptotree\n",
        "import inspect\n",
        "\n",
        "# List all classes and functions in the cryptotree module\n",
        "print(inspect.getmembers(cryptotree, inspect.isclass))\n",
        "print(inspect.getmembers(cryptotree, inspect.isfunction))\n"
      ],
      "metadata": {
        "colab": {
          "base_uri": "https://localhost:8080/"
        },
        "id": "XVdOVW0BTUAw",
        "outputId": "96d34b07-7287-488f-9c17-5ff54090d05b"
      },
      "execution_count": null,
      "outputs": [
        {
          "output_type": "stream",
          "name": "stdout",
          "text": [
            "[]\n",
            "[]\n"
          ]
        }
      ]
    },
    {
      "cell_type": "code",
      "source": [
        "try:\n",
        "    import cryptotree\n",
        "    print(\"cryptotree imported successfully!\")\n",
        "except ImportError as e:\n",
        "    print(f\"Error importing cryptotree: {e}\")\n"
      ],
      "metadata": {
        "colab": {
          "base_uri": "https://localhost:8080/"
        },
        "id": "HoA2ETR2Thvh",
        "outputId": "dce4e040-7290-47b3-c2f0-b32b74f39ce5"
      },
      "execution_count": null,
      "outputs": [
        {
          "output_type": "stream",
          "name": "stdout",
          "text": [
            "cryptotree imported successfully!\n"
          ]
        }
      ]
    },
    {
      "cell_type": "code",
      "source": [
        "import cryptotree\n",
        "import inspect\n",
        "\n",
        "# List all classes and functions in the cryptotree module\n",
        "print(\"Classes in cryptotree:\", inspect.getmembers(cryptotree, inspect.isclass))\n",
        "print(\"Functions in cryptotree:\", inspect.getmembers(cryptotree, inspect.isfunction))\n"
      ],
      "metadata": {
        "colab": {
          "base_uri": "https://localhost:8080/"
        },
        "id": "K5EFaj-HTm6v",
        "outputId": "d94210c9-8528-449a-ed8d-6e777218feda"
      },
      "execution_count": null,
      "outputs": [
        {
          "output_type": "stream",
          "name": "stdout",
          "text": [
            "Classes in cryptotree: []\n",
            "Functions in cryptotree: []\n"
          ]
        }
      ]
    },
    {
      "cell_type": "code",
      "source": [
        "import pandas as pd"
      ],
      "metadata": {
        "id": "HbnZIkvbvJaB"
      },
      "execution_count": null,
      "outputs": []
    },
    {
      "cell_type": "code",
      "source": [
        "# Load the dataset\n",
        "file_path = '/content/Fraud1k.csv'\n",
        "df = pd.read_csv(file_path)\n",
        "\n",
        "# Drop unnecessary columns\n",
        "df_dropped = df.drop(columns=['Date', 'City', 'type', 'Card Type', 'Exp Type', 'Gender'])\n",
        "\n",
        "# Encode the 'nameOrig' column\n",
        "df_dropped['nameOrig'] = df_dropped['nameOrig'].astype('category').cat.codes\n",
        "\n",
        "# Define features and target\n",
        "X = df_dropped.drop(columns=['isFraud'])\n",
        "y = df_dropped['isFraud']\n"
      ],
      "metadata": {
        "id": "o5-dMoiVu9po"
      },
      "execution_count": null,
      "outputs": []
    },
    {
      "cell_type": "code",
      "source": [
        "import tenseal as ts"
      ],
      "metadata": {
        "id": "wcg2B2GdvXlE"
      },
      "execution_count": null,
      "outputs": []
    },
    {
      "cell_type": "code",
      "source": [
        "# Creating context for homomorphic encryption\n",
        "context = ts.context(ts.SCHEME_TYPE.CKKS, poly_modulus_degree=8192, coeff_mod_bit_sizes=[60, 40, 40, 60])\n",
        "context.global_scale = 2**40\n",
        "context.generate_galois_keys()\n",
        "\n",
        "# Encrypt the feature data\n",
        "X_encrypted = X.applymap(lambda x: ts.ckks_vector(context, [x]))\n",
        "\n",
        "# Encrypt the target variable using apply method\n",
        "y_encrypted = y.apply(lambda x: ts.ckks_vector(context, [x]))\n",
        "\n",
        "# Convert encrypted data back to a format suitable for CryptoTree\n",
        "X_encrypted_list = X_encrypted.applymap(lambda x: x.serialize())\n",
        "y_encrypted_list = y_encrypted.apply(lambda x: x.serialize())\n",
        "\n"
      ],
      "metadata": {
        "id": "xp-IYomTvOav"
      },
      "execution_count": null,
      "outputs": []
    },
    {
      "cell_type": "code",
      "source": [
        "from cryptotree.tree import NeuralRandomForest, SigmoidTreeMaker"
      ],
      "metadata": {
        "id": "zjGpPBSfyHsA"
      },
      "execution_count": null,
      "outputs": []
    },
    {
      "cell_type": "code",
      "source": [
        "dilatation_factor = 16\n",
        "polynomial_degree = dilatation_factor\n",
        "\n",
        "sigmoid_tree_maker = SigmoidTreeMaker(use_polynomial=True,\n",
        "                                      dilatation_factor=dilatation_factor,\n",
        "                                      polynomial_degree=polynomial_degree)\n",
        "\n",
        "# Create a list of trees for the forest (assuming 10 trees for demonstration)\n",
        "trees = [sigmoid_tree_maker.make_tree() for _ in range(10)]\n",
        "\n",
        "# Initialize the NeuralRandomForest\n",
        "neural_rf = NeuralRandomForest(trees=trees, tree_maker=sigmoid_tree_maker)\n",
        "\n",
        "# Train the model\n",
        "neural_rf.fit(X_encrypted_list, y_encrypted_list)\n",
        "\n",
        "# Save the model if needed\n",
        "neural_rf.save_model('neural_random_forest_model.pkl')\n",
        "\n",
        "# Encrypt new data for prediction\n",
        "new_data = [[30000, 100000, 70000, 10]]  # Example new data point\n",
        "new_data_encrypted = [ts.ckks_vector(context, x).serialize() for x in new_data]\n",
        "\n",
        "# Predict using the trained model\n",
        "predictions_encrypted = neural_rf.predict(new_data_encrypted)\n",
        "\n",
        "# Decrypt the predictions\n",
        "predictions = [ts.ckks_vector_from(context, x).decrypt()[0] for x in predictions_encrypted]\n",
        "\n",
        "print(\"Predictions:\", predictions)"
      ],
      "metadata": {
        "colab": {
          "base_uri": "https://localhost:8080/",
          "height": 332
        },
        "id": "-OFZjAV1waQC",
        "outputId": "1be1cb65-63c3-4052-e721-9d248d748d58"
      },
      "execution_count": null,
      "outputs": [
        {
          "output_type": "error",
          "ename": "TypeError",
          "evalue": "NeuralTreeMaker.make_tree() missing 1 required positional argument: 'tree'",
          "traceback": [
            "\u001b[0;31m---------------------------------------------------------------------------\u001b[0m",
            "\u001b[0;31mTypeError\u001b[0m                                 Traceback (most recent call last)",
            "\u001b[0;32m<ipython-input-23-85cadf88603c>\u001b[0m in \u001b[0;36m<cell line: 9>\u001b[0;34m()\u001b[0m\n\u001b[1;32m      7\u001b[0m \u001b[0;34m\u001b[0m\u001b[0m\n\u001b[1;32m      8\u001b[0m \u001b[0;31m# Create a list of trees for the forest (assuming 10 trees for demonstration)\u001b[0m\u001b[0;34m\u001b[0m\u001b[0;34m\u001b[0m\u001b[0m\n\u001b[0;32m----> 9\u001b[0;31m \u001b[0mtrees\u001b[0m \u001b[0;34m=\u001b[0m \u001b[0;34m[\u001b[0m\u001b[0msigmoid_tree_maker\u001b[0m\u001b[0;34m.\u001b[0m\u001b[0mmake_tree\u001b[0m\u001b[0;34m(\u001b[0m\u001b[0;34m)\u001b[0m \u001b[0;32mfor\u001b[0m \u001b[0m_\u001b[0m \u001b[0;32min\u001b[0m \u001b[0mrange\u001b[0m\u001b[0;34m(\u001b[0m\u001b[0;36m10\u001b[0m\u001b[0;34m)\u001b[0m\u001b[0;34m]\u001b[0m\u001b[0;34m\u001b[0m\u001b[0;34m\u001b[0m\u001b[0m\n\u001b[0m\u001b[1;32m     10\u001b[0m \u001b[0;34m\u001b[0m\u001b[0m\n\u001b[1;32m     11\u001b[0m \u001b[0;31m# Initialize the NeuralRandomForest\u001b[0m\u001b[0;34m\u001b[0m\u001b[0;34m\u001b[0m\u001b[0m\n",
            "\u001b[0;32m<ipython-input-23-85cadf88603c>\u001b[0m in \u001b[0;36m<listcomp>\u001b[0;34m(.0)\u001b[0m\n\u001b[1;32m      7\u001b[0m \u001b[0;34m\u001b[0m\u001b[0m\n\u001b[1;32m      8\u001b[0m \u001b[0;31m# Create a list of trees for the forest (assuming 10 trees for demonstration)\u001b[0m\u001b[0;34m\u001b[0m\u001b[0;34m\u001b[0m\u001b[0m\n\u001b[0;32m----> 9\u001b[0;31m \u001b[0mtrees\u001b[0m \u001b[0;34m=\u001b[0m \u001b[0;34m[\u001b[0m\u001b[0msigmoid_tree_maker\u001b[0m\u001b[0;34m.\u001b[0m\u001b[0mmake_tree\u001b[0m\u001b[0;34m(\u001b[0m\u001b[0;34m)\u001b[0m \u001b[0;32mfor\u001b[0m \u001b[0m_\u001b[0m \u001b[0;32min\u001b[0m \u001b[0mrange\u001b[0m\u001b[0;34m(\u001b[0m\u001b[0;36m10\u001b[0m\u001b[0;34m)\u001b[0m\u001b[0;34m]\u001b[0m\u001b[0;34m\u001b[0m\u001b[0;34m\u001b[0m\u001b[0m\n\u001b[0m\u001b[1;32m     10\u001b[0m \u001b[0;34m\u001b[0m\u001b[0m\n\u001b[1;32m     11\u001b[0m \u001b[0;31m# Initialize the NeuralRandomForest\u001b[0m\u001b[0;34m\u001b[0m\u001b[0;34m\u001b[0m\u001b[0m\n",
            "\u001b[0;31mTypeError\u001b[0m: NeuralTreeMaker.make_tree() missing 1 required positional argument: 'tree'"
          ]
        }
      ]
    },
    {
      "cell_type": "code",
      "source": [
        "import tenseal as ts\n",
        "from sklearn.ensemble import RandomForestClassifier\n",
        "from sklearn.model_selection import train_test_split\n",
        "from sklearn.preprocessing import StandardScaler, LabelEncoder\n",
        "from sklearn.metrics import accuracy_score\n",
        "import pandas as pd\n",
        "import numpy as np"
      ],
      "metadata": {
        "id": "z3WcCfP8tR39"
      },
      "execution_count": null,
      "outputs": []
    },
    {
      "cell_type": "code",
      "source": [
        "import pandas as pd\n",
        "from sklearn.model_selection import train_test_split\n",
        "\n",
        "\n",
        "\n",
        "# Split the dataset into 5 parts\n",
        "part1, temp = train_test_split(df, test_size=0.8, random_state=42)\n",
        "part2, temp = train_test_split(temp, test_size=0.75, random_state=42)\n",
        "part3, temp = train_test_split(temp, test_size=2/3, random_state=42)\n",
        "part4, part5 = train_test_split(temp, test_size=0.5, random_state=42)\n",
        "\n",
        "# Save each part to a separate CSV file\n",
        "part1.to_csv('bank1_transactions.csv', index=False)\n",
        "part2.to_csv('bank2_transactions.csv', index=False)\n",
        "part3.to_csv('bank3_transactions.csv', index=False)\n",
        "part4.to_csv('bank4_transactions.csv', index=False)\n",
        "part5.to_csv('bank5_transactions.csv', index=False)"
      ],
      "metadata": {
        "id": "aplMubib1R4E"
      },
      "execution_count": null,
      "outputs": []
    },
    {
      "cell_type": "code",
      "source": [
        "from sklearn.model_selection import train_test_split, GridSearchCV, cross_val_score\n",
        "from sklearn.metrics import classification_report, accuracy_score"
      ],
      "metadata": {
        "id": "giyw_qYt2HRC"
      },
      "execution_count": null,
      "outputs": []
    },
    {
      "cell_type": "code",
      "source": [
        "# Load the split datasets\n",
        "part1 = pd.read_csv('bank1_transactions.csv')\n",
        "part2 = pd.read_csv('bank2_transactions.csv')\n",
        "part3 = pd.read_csv('bank3_transactions.csv')\n",
        "part4 = pd.read_csv('bank4_transactions.csv')\n",
        "part5 = pd.read_csv('bank5_transactions.csv')\n",
        "\n",
        "# Combine the datasets\n",
        "combined_data = pd.concat([part1, part2, part3, part4, part5])\n",
        "\n",
        "# Convert the Date column to datetime\n",
        "combined_data['Date'] = pd.to_datetime(combined_data['Date'])\n",
        "\n",
        "# Extract features from Date\n",
        "combined_data['year'] = combined_data['Date'].dt.year\n",
        "combined_data['month'] = combined_data['Date'].dt.month\n",
        "combined_data['day'] = combined_data['Date'].dt.day\n",
        "combined_data['hour'] = combined_data['Date'].dt.hour\n",
        "combined_data['minute'] = combined_data['Date'].dt.minute\n",
        "combined_data['second'] = combined_data['Date'].dt.second\n",
        "\n",
        "# Drop the original Date column\n",
        "combined_data = combined_data.drop(columns=['Date'])\n",
        "\n",
        "# Preprocess the data: Encode categorical variables if necessary\n",
        "combined_data = pd.get_dummies(combined_data, columns=['City', 'type', 'Card Type', 'Exp Type', 'Gender'])\n",
        "\n",
        "# Separate features and target\n",
        "X = combined_data.drop(columns=['nameOrig', 'isFraud'])\n",
        "y = combined_data['isFraud']\n",
        "\n",
        "# Handle missing values (if any)\n",
        "X.fillna(X.mean(), inplace=True)\n",
        "\n",
        "# Normalize/Scale features\n",
        "scaler = StandardScaler()\n",
        "X = scaler.fit_transform(X)\n",
        "\n",
        "# Split the data into training and test sets\n",
        "X_train, X_test, y_train, y_test = train_test_split(X, y, test_size=0.2, random_state=42)\n",
        "\n",
        "# Initialize the Random Forest classifier\n",
        "clf = RandomForestClassifier(random_state=42)\n",
        "\n",
        "# Hyperparameter tuning using Grid Search\n",
        "param_grid = {\n",
        "    'n_estimators': [50, 100, 200],\n",
        "    'max_depth': [None, 10, 20, 30],\n",
        "    'min_samples_split': [2, 5, 10],\n",
        "    'min_samples_leaf': [1, 2, 4]\n",
        "}\n",
        "\n",
        "grid_search = GridSearchCV(estimator=clf, param_grid=param_grid, cv=3, n_jobs=-1, verbose=2)\n",
        "grid_search.fit(X_train, y_train)\n",
        "\n",
        "# Best hyperparameters\n",
        "print(f'Best Hyperparameters: {grid_search.best_params_}')\n",
        "\n",
        "# Train the classifier with the best hyperparameters\n",
        "best_clf = grid_search.best_estimator_\n",
        "best_clf.fit(X_train, y_train)\n",
        "\n",
        "# Make predictions\n",
        "y_pred = best_clf.predict(X_test)\n",
        "\n",
        "# Evaluate the classifier\n",
        "accuracy = accuracy_score(y_test, y_pred)\n",
        "report = classification_report(y_test, y_pred)\n",
        "\n",
        "print(f'Accuracy: {accuracy}')\n",
        "print('Classification Report:')\n",
        "print(report)\n",
        "\n",
        "# Cross-validation score\n",
        "cv_scores = cross_val_score(best_clf, X, y, cv=5)\n",
        "print(f'Cross-validation Accuracy: {cv_scores.mean()}')\n"
      ],
      "metadata": {
        "colab": {
          "base_uri": "https://localhost:8080/"
        },
        "id": "u56IAs7DT8Fs",
        "outputId": "48ec5347-c8ee-426b-9431-c0db61f5d4fb"
      },
      "execution_count": null,
      "outputs": [
        {
          "output_type": "stream",
          "name": "stderr",
          "text": [
            "<ipython-input-30-4432cc5c56db>:12: UserWarning: Could not infer format, so each element will be parsed individually, falling back to `dateutil`. To ensure parsing is consistent and as-expected, please specify a format.\n",
            "  combined_data['Date'] = pd.to_datetime(combined_data['Date'])\n"
          ]
        },
        {
          "output_type": "stream",
          "name": "stdout",
          "text": [
            "Fitting 3 folds for each of 108 candidates, totalling 324 fits\n",
            "Best Hyperparameters: {'max_depth': 20, 'min_samples_leaf': 1, 'min_samples_split': 5, 'n_estimators': 200}\n",
            "Accuracy: 0.8706467661691543\n",
            "Classification Report:\n",
            "              precision    recall  f1-score   support\n",
            "\n",
            "           0       0.89      0.97      0.93       175\n",
            "           1       0.50      0.19      0.28        26\n",
            "\n",
            "    accuracy                           0.87       201\n",
            "   macro avg       0.70      0.58      0.60       201\n",
            "weighted avg       0.84      0.87      0.84       201\n",
            "\n",
            "Cross-validation Accuracy: 0.8581442786069651\n"
          ]
        }
      ]
    },
    {
      "cell_type": "code",
      "source": [
        "# Load the dataset\n",
        "fraud1k_path = '/content/Fraud1k.csv'\n",
        "fraud1k_df = pd.read_csv(fraud1k_path)\n",
        "\n",
        "# Drop unnecessary columns and encode categorical variables\n",
        "fraud1k_df = fraud1k_df.drop(['Unnamed: 0', 'Date', 'nameOrig', 'City'], axis=1)\n",
        "\n",
        "# Encode categorical features\n",
        "label_encoders = {}\n",
        "for column in ['type', 'Card Type', 'Exp Type', 'Gender']:\n",
        "    le = LabelEncoder()\n",
        "    fraud1k_df[column] = le.fit_transform(fraud1k_df[column])\n",
        "    label_encoders[column] = le\n",
        "\n",
        "# Define features and target variable\n",
        "X = fraud1k_df.drop('isFraud', axis=1)\n",
        "y = fraud1k_df['isFraud']\n",
        "\n",
        "# Standardize the features\n",
        "scaler = StandardScaler()\n",
        "X_scaled = scaler.fit_transform(X)\n",
        "\n",
        "# Split the data into training and testing sets\n",
        "X_train, X_test, y_train, y_test = train_test_split(X_scaled, y, test_size=0.2, random_state=42)\n",
        "\n",
        "# Initialize and train a Random Forest classifier on non-encrypted data\n",
        "rf_classifier = RandomForestClassifier(n_estimators=10, random_state=42)\n",
        "rf_classifier.fit(X_train, y_train)\n",
        "\n",
        "# Encrypt the test data using TenSEAL CKKS\n",
        "context = ts.context(ts.SCHEME_TYPE.CKKS, poly_modulus_degree=8192, coeff_mod_bit_sizes=[60, 40, 40, 60])\n",
        "context.global_scale = 2**40\n",
        "context.generate_galois_keys()\n",
        "\n",
        "# Encrypt the test data\n",
        "X_test_encrypted = [ts.ckks_vector(context, sample) for sample in X_test]\n",
        "\n",
        "# Define a function to decrypt and make predictions\n",
        "def decrypt_and_predict(model, encrypted_data, context):\n",
        "    decrypted_data = np.array([sample.decrypt() for sample in encrypted_data])\n",
        "    return model.predict(decrypted_data)\n",
        "\n",
        "# Make predictions on the encrypted test data\n",
        "y_pred_encrypted = decrypt_and_predict(rf_classifier, X_test_encrypted, context)\n",
        "\n",
        "# Evaluate the model\n",
        "accuracy = accuracy_score(y_test, y_pred_encrypted)\n",
        "print(f'Accuracy on encrypted test data: {accuracy:.2f}')\n"
      ],
      "metadata": {
        "colab": {
          "base_uri": "https://localhost:8080/"
        },
        "id": "LqUn6TnaUzv8",
        "outputId": "949b0dcf-dae4-4707-86a0-ffc96a21c672"
      },
      "execution_count": null,
      "outputs": [
        {
          "output_type": "stream",
          "name": "stdout",
          "text": [
            "Accuracy on encrypted test data: 0.85\n"
          ]
        }
      ]
    },
    {
      "cell_type": "code",
      "source": [
        "!pip install secret-sharing"
      ],
      "metadata": {
        "colab": {
          "base_uri": "https://localhost:8080/"
        },
        "id": "XF78NJIb48ru",
        "outputId": "e3b72cec-d1c8-4f8c-f32a-87909bfc3ca1"
      },
      "execution_count": null,
      "outputs": [
        {
          "output_type": "stream",
          "name": "stdout",
          "text": [
            "Collecting secret-sharing\n",
            "  Downloading secret-sharing-0.2.7.tar.gz (6.3 kB)\n",
            "  Preparing metadata (setup.py) ... \u001b[?25l\u001b[?25hdone\n",
            "Requirement already satisfied: six in /usr/local/lib/python3.10/dist-packages (from secret-sharing) (1.16.0)\n",
            "Collecting utilitybelt (from secret-sharing)\n",
            "  Downloading utilitybelt-0.2.6.tar.gz (3.9 kB)\n",
            "  Preparing metadata (setup.py) ... \u001b[?25l\u001b[?25hdone\n",
            "Building wheels for collected packages: secret-sharing, utilitybelt\n",
            "  Building wheel for secret-sharing (setup.py) ... \u001b[?25l\u001b[?25hdone\n",
            "  Created wheel for secret-sharing: filename=secret_sharing-0.2.7-py3-none-any.whl size=5720 sha256=b419fec790c343c372d32e8f572ae9d43d9ba30c30662ae611585438f51014e3\n",
            "  Stored in directory: /root/.cache/pip/wheels/fa/aa/c7/a77333d6dabcfd78f9a3c4c822af0b997d3f01f2f5b798fbf6\n",
            "  Building wheel for utilitybelt (setup.py) ... \u001b[?25l\u001b[?25hdone\n",
            "  Created wheel for utilitybelt: filename=utilitybelt-0.2.6-py3-none-any.whl size=5566 sha256=b13bbef682405661c08827c1f53ecca4a9b657d64ca1ca5deaaeb64d816157a4\n",
            "  Stored in directory: /root/.cache/pip/wheels/07/49/58/fb1b03edee75e017efb2f5537f0307997273af959d354c34d5\n",
            "Successfully built secret-sharing utilitybelt\n",
            "Installing collected packages: utilitybelt, secret-sharing\n",
            "Successfully installed secret-sharing-0.2.7 utilitybelt-0.2.6\n"
          ]
        }
      ]
    },
    {
      "cell_type": "code",
      "source": [
        "!pip install tenseal"
      ],
      "metadata": {
        "colab": {
          "base_uri": "https://localhost:8080/"
        },
        "id": "iPfpf37V4zR5",
        "outputId": "f0b7e370-39cd-4df1-e160-f26c4c171293"
      },
      "execution_count": null,
      "outputs": [
        {
          "output_type": "stream",
          "name": "stdout",
          "text": [
            "Collecting tenseal\n",
            "  Downloading tenseal-0.3.14-cp310-cp310-manylinux_2_17_x86_64.manylinux2014_x86_64.whl (4.9 MB)\n",
            "\u001b[2K     \u001b[90m━━━━━━━━━━━━━━━━━━━━━━━━━━━━━━━━━━━━━━━━\u001b[0m \u001b[32m4.9/4.9 MB\u001b[0m \u001b[31m13.9 MB/s\u001b[0m eta \u001b[36m0:00:00\u001b[0m\n",
            "\u001b[?25hInstalling collected packages: tenseal\n",
            "Successfully installed tenseal-0.3.14\n"
          ]
        }
      ]
    },
    {
      "cell_type": "code",
      "source": [
        "import pandas as pd\n",
        "from sklearn.preprocessing import LabelEncoder, StandardScaler\n",
        "from sklearn.model_selection import train_test_split\n",
        "from sklearn.ensemble import RandomForestClassifier\n",
        "from sklearn.metrics import accuracy_score\n",
        "from sklearn.metrics import accuracy_score, precision_score, recall_score, f1_score\n",
        "import tenseal as ts\n",
        "import numpy as np\n",
        "import random\n",
        "from secretsharing import SecretSharer\n",
        "\n",
        "# Load the dataset\n",
        "fraud1k_path = '/content/Fraud1k.csv'\n",
        "fraud1k_df = pd.read_csv(fraud1k_path)\n",
        "\n",
        "# Drop unnecessary columns and encode categorical variables\n",
        "fraud1k_df = fraud1k_df.drop(['Unnamed: 0', 'Date', 'nameOrig', 'City'], axis=1)\n",
        "\n",
        "# Encode categorical features\n",
        "label_encoders = {}\n",
        "for column in ['type', 'Card Type', 'Exp Type', 'Gender']:\n",
        "    le = LabelEncoder()\n",
        "    fraud1k_df[column] = le.fit_transform(fraud1k_df[column])\n",
        "    label_encoders[column] = le\n",
        "\n",
        "# Define features and target variable\n",
        "X = fraud1k_df.drop('isFraud', axis=1)\n",
        "y = fraud1k_df['isFraud']\n",
        "\n",
        "# Standardize the features\n",
        "scaler = StandardScaler()\n",
        "X_scaled = scaler.fit_transform(X)\n",
        "\n",
        "# Split the data into training and testing sets\n",
        "X_train, X_test, y_train, y_test = train_test_split(X_scaled, y, test_size=0.2, random_state=42)\n",
        "\n",
        "# Initialize and train a Random Forest classifier on non-encrypted data\n",
        "rf_classifier = RandomForestClassifier(n_estimators=10, random_state=42)\n",
        "rf_classifier.fit(X_train, y_train)\n",
        "\n",
        "# TFHE Helper functions\n",
        "def homomorphic_addition(cipher1, cipher2, mod):\n",
        "    return (cipher1 + cipher2) % mod\n",
        "\n",
        "def homomorphic_multiplication(cipher1, cipher2, mod):\n",
        "    return (cipher1 * cipher2) % mod\n",
        "\n",
        "def generate_secret_key():\n",
        "    return random.randint(1, 100)\n",
        "\n",
        "def encrypt(plaintext, key, mod):\n",
        "    return (plaintext + key) % mod\n",
        "\n",
        "def decrypt(ciphertext, key, mod):\n",
        "    return (ciphertext - key) % mod\n",
        "\n",
        "def share_secret(secret, n, k):\n",
        "    shares = SecretSharer.split_secret(secret, k, n)\n",
        "    return shares\n",
        "\n",
        "def recover_secret(shares):\n",
        "    secret = SecretSharer.recover_secret(shares)\n",
        "    return secret\n",
        "\n",
        "# Define parameters\n",
        "mod = 101  # A small prime number as modulus\n",
        "secret_key = generate_secret_key()\n",
        "\n",
        "# Generate shares of the secret key\n",
        "n = 5  # Total number of shares\n",
        "k = 3  # Minimum number of shares needed to reconstruct the secret\n",
        "shares = share_secret(str(secret_key), n, k)\n",
        "\n",
        "# Encrypt the test data using TenSEAL CKKS\n",
        "context = ts.context(ts.SCHEME_TYPE.CKKS, poly_modulus_degree=8192, coeff_mod_bit_sizes=[60, 40, 40, 60])\n",
        "context.global_scale = 2**40\n",
        "context.generate_galois_keys()\n",
        "\n",
        "# Encrypt the test data\n",
        "X_test_encrypted = [ts.ckks_vector(context, sample) for sample in X_test]\n",
        "\n",
        "# Define a function to decrypt and make predictions\n",
        "def decrypt_and_predict_tfhe(model, encrypted_data, context, key, mod):\n",
        "    decrypted_data = np.array([[decrypt(val, key, mod) for val in sample.decrypt()] for sample in encrypted_data])\n",
        "    return model.predict(decrypted_data)\n",
        "\n",
        "# Make predictions on the encrypted test data using the reconstructed key\n",
        "reconstructed_key = int(recover_secret(shares[:k]))\n",
        "y_pred_encrypted = decrypt_and_predict_tfhe(rf_classifier, X_test_encrypted, context, reconstructed_key, mod)\n",
        "\n",
        "# Evaluate the model\n",
        "accuracy = accuracy_score(y_test, y_pred_encrypted)\n",
        "print(f'Accuracy on encrypted test data: {accuracy:.2f}')\n"
      ],
      "metadata": {
        "colab": {
          "base_uri": "https://localhost:8080/"
        },
        "id": "b1ZffEJO8v8p",
        "outputId": "097d8768-86af-49b3-ea32-a6b07edd670e"
      },
      "execution_count": null,
      "outputs": [
        {
          "output_type": "stream",
          "name": "stdout",
          "text": [
            "Accuracy on encrypted test data: 0.86\n"
          ]
        }
      ]
    },
    {
      "cell_type": "code",
      "source": [
        "import pandas as pd\n",
        "from sklearn.preprocessing import LabelEncoder, StandardScaler\n",
        "from sklearn.model_selection import train_test_split, cross_val_score\n",
        "from sklearn.ensemble import RandomForestClassifier\n",
        "from sklearn.metrics import accuracy_score, precision_score, recall_score, f1_score\n",
        "import tenseal as ts\n",
        "import numpy as np\n",
        "import random\n",
        "from secretsharing import SecretSharer\n",
        "\n",
        "# Load the dataset\n",
        "fraud1k_path = '/content/Fraud1k.csv'\n",
        "fraud1k_df = pd.read_csv(fraud1k_path)\n",
        "\n",
        "# Drop unnecessary columns and encode categorical variables\n",
        "fraud1k_df = fraud1k_df.drop(['Unnamed: 0', 'Date', 'nameOrig', 'City'], axis=1)\n",
        "\n",
        "# Encode categorical features\n",
        "label_encoders = {}\n",
        "for column in ['type', 'Card Type', 'Exp Type', 'Gender']:\n",
        "    le = LabelEncoder()\n",
        "    fraud1k_df[column] = le.fit_transform(fraud1k_df[column])\n",
        "    label_encoders[column] = le\n",
        "\n",
        "# Define features and target variable\n",
        "X = fraud1k_df.drop('isFraud', axis=1)\n",
        "y = fraud1k_df['isFraud']\n",
        "\n",
        "# Standardize the features\n",
        "scaler = StandardScaler()\n",
        "X_scaled = scaler.fit_transform(X)\n",
        "\n",
        "# Split the data into training and testing sets\n",
        "X_train, X_test, y_train, y_test = train_test_split(X_scaled, y, test_size=0.2, random_state=42)\n",
        "\n",
        "# Initialize and train a Random Forest classifier on non-encrypted data\n",
        "rf_classifier = RandomForestClassifier(n_estimators=10, random_state=42)\n",
        "rf_classifier.fit(X_train, y_train)\n",
        "\n",
        "# TFHE Helper functions\n",
        "def homomorphic_addition(cipher1, cipher2, mod):\n",
        "    return (cipher1 + cipher2) % mod\n",
        "\n",
        "def homomorphic_multiplication(cipher1, cipher2, mod):\n",
        "    return (cipher1 * cipher2) % mod\n",
        "\n",
        "def generate_secret_key():\n",
        "    return random.randint(1, 100)\n",
        "\n",
        "def encrypt(plaintext, key, mod):\n",
        "    return (plaintext + key) % mod\n",
        "\n",
        "def decrypt(ciphertext, key, mod):\n",
        "    return (ciphertext - key) % mod\n",
        "\n",
        "def share_secret(secret, n, k):\n",
        "    shares = SecretSharer.split_secret(secret, k, n)\n",
        "    return shares\n",
        "\n",
        "def recover_secret(shares):\n",
        "    secret = SecretSharer.recover_secret(shares)\n",
        "    return secret\n",
        "\n",
        "# Define parameters\n",
        "mod = 101  # A small prime number as modulus\n",
        "secret_key = generate_secret_key()\n",
        "\n",
        "# Generate shares of the secret key\n",
        "n = 5  # Total number of shares\n",
        "k = 3  # Minimum number of shares needed to reconstruct the secret\n",
        "shares = share_secret(str(secret_key), n, k)\n",
        "\n",
        "# Encrypt the test data using TenSEAL CKKS\n",
        "context = ts.context(ts.SCHEME_TYPE.CKKS, poly_modulus_degree=8192, coeff_mod_bit_sizes=[60, 40, 40, 60])\n",
        "context.global_scale = 2**40\n",
        "context.generate_galois_keys()\n",
        "\n",
        "# Encrypt the test data\n",
        "X_test_encrypted = [ts.ckks_vector(context, sample) for sample in X_test]\n",
        "\n",
        "# Define a function to decrypt and make predictions\n",
        "def decrypt_and_predict_tfhe(model, encrypted_data, context, key, mod):\n",
        "    decrypted_data = np.array([[decrypt(val, key, mod) for val in sample.decrypt()] for sample in encrypted_data])\n",
        "    return model.predict(decrypted_data)\n",
        "\n",
        "# Make predictions on the encrypted test data using the reconstructed key\n",
        "reconstructed_key = int(recover_secret(shares[:k]))\n",
        "y_pred_encrypted = decrypt_and_predict_tfhe(rf_classifier, X_test_encrypted, context, reconstructed_key, mod)\n",
        "\n",
        "# Evaluate the model\n",
        "accuracy = accuracy_score(y_test, y_pred_encrypted)\n",
        "precision = precision_score(y_test, y_pred_encrypted)\n",
        "recall = recall_score(y_test, y_pred_encrypted)\n",
        "f1 = f1_score(y_test, y_pred_encrypted)\n",
        "precision_micro = precision_score(y_test, y_pred_encrypted, average='micro')\n",
        "recall_micro = recall_score(y_test, y_pred_encrypted, average='micro')\n",
        "f1_micro = f1_score(y_test, y_pred_encrypted, average='micro')\n",
        "precision_weighted = precision_score(y_test, y_pred_encrypted, average='weighted')\n",
        "recall_weighted = recall_score(y_test, y_pred_encrypted, average='weighted')\n",
        "f1_weighted = f1_score(y_test, y_pred_encrypted, average='weighted')\n",
        "\n",
        "print(f'Accuracy on encrypted test data: {accuracy:.2f}')\n",
        "print(f'Precision on encrypted test data: {precision:.2f}')\n",
        "print(f'Recall on encrypted test data: {recall:.2f}')\n",
        "print(f'F1 score on encrypted test data: {f1:.2f}')\n",
        "print(f'Precision (micro) on encrypted test data: {precision_micro:.2f}')\n",
        "print(f'Recall (micro) on encrypted test data: {recall_micro:.2f}')\n",
        "print(f'F1 score (micro) on encrypted test data: {f1_micro:.2f}')\n",
        "print(f'Precision (weighted) on encrypted test data: {precision_weighted:.2f}')\n",
        "print(f'Recall (weighted) on encrypted test data: {recall_weighted:.2f}')\n",
        "print(f'F1 score (weighted) on encrypted test data: {f1_weighted:.2f}')\n",
        "\n",
        "# Cross-validation accuracy\n",
        "cv_scores = cross_val_score(rf_classifier, X_scaled, y, cv=5)\n",
        "print(f'Cross-validation accuracy: {cv_scores.mean():.2f} (+/- {cv_scores.std() * 2:.2f})')\n"
      ],
      "metadata": {
        "colab": {
          "base_uri": "https://localhost:8080/"
        },
        "id": "L8aO4NBj7AZq",
        "outputId": "389b79a4-ff48-4ded-cff8-a7708298017d"
      },
      "execution_count": null,
      "outputs": [
        {
          "output_type": "stream",
          "name": "stderr",
          "text": [
            "/usr/local/lib/python3.10/dist-packages/sklearn/metrics/_classification.py:1344: UndefinedMetricWarning: Precision is ill-defined and being set to 0.0 due to no predicted samples. Use `zero_division` parameter to control this behavior.\n",
            "  _warn_prf(average, modifier, msg_start, len(result))\n",
            "/usr/local/lib/python3.10/dist-packages/sklearn/metrics/_classification.py:1344: UndefinedMetricWarning: Precision is ill-defined and being set to 0.0 in labels with no predicted samples. Use `zero_division` parameter to control this behavior.\n",
            "  _warn_prf(average, modifier, msg_start, len(result))\n"
          ]
        },
        {
          "output_type": "stream",
          "name": "stdout",
          "text": [
            "Accuracy on encrypted test data: 0.86\n",
            "Precision on encrypted test data: 0.00\n",
            "Recall on encrypted test data: 0.00\n",
            "F1 score on encrypted test data: 0.00\n",
            "Precision (micro) on encrypted test data: 0.86\n",
            "Recall (micro) on encrypted test data: 0.86\n",
            "F1 score (micro) on encrypted test data: 0.86\n",
            "Precision (weighted) on encrypted test data: 0.73\n",
            "Recall (weighted) on encrypted test data: 0.86\n",
            "F1 score (weighted) on encrypted test data: 0.79\n",
            "Cross-validation accuracy: 0.85 (+/- 0.05)\n"
          ]
        }
      ]
    }
  ]
}